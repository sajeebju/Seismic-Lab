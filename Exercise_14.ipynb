{
  "nbformat": 4,
  "nbformat_minor": 0,
  "metadata": {
    "colab": {
      "provenance": [],
      "collapsed_sections": [],
      "authorship_tag": "ABX9TyML3IfbOfQvhxqDqv5CfXwU",
      "include_colab_link": true
    },
    "kernelspec": {
      "name": "python3",
      "display_name": "Python 3"
    },
    "language_info": {
      "name": "python"
    },
    "accelerator": "GPU",
    "gpuClass": "standard"
  },
  "cells": [
    {
      "cell_type": "markdown",
      "metadata": {
        "id": "view-in-github",
        "colab_type": "text"
      },
      "source": [
        "<a href=\"https://colab.research.google.com/github/sajeebju/Geophysics-Lab/blob/main/Exercise_14.ipynb\" target=\"_parent\"><img src=\"https://colab.research.google.com/assets/colab-badge.svg\" alt=\"Open In Colab\"/></a>"
      ]
    },
    {
      "cell_type": "markdown",
      "source": [
        "The travel times of waves at first arrival are given in the table below."
      ],
      "metadata": {
        "id": "RfYh6XGuhazo"
      }
    },
    {
      "cell_type": "code",
      "source": [
        "import numpy as np\n",
        "import pandas as pd\n",
        "import matplotlib.pyplot as plt\n",
        "import seaborn as sns\n",
        "\n",
        "x = np.arange(0, 3 + 0.2, 0.2)\n",
        "time = np.array([0, 0.25, .50, .75, 1.0, 1.25, 1.47, 1.56, 1.65, 1.75, 1.84, 1.93, 2.01, 2.07, 2.13, 2.18])\n",
        "\n",
        "df = pd.DataFrame({\"X(km)\" : x, \"Time(s)\" : time})\n",
        "df"
      ],
      "metadata": {
        "colab": {
          "base_uri": "https://localhost:8080/",
          "height": 551
        },
        "id": "oMhuQdKahby4",
        "outputId": "d444ceee-0580-4ee9-a39b-71f98a9189c4"
      },
      "execution_count": 1,
      "outputs": [
        {
          "output_type": "execute_result",
          "data": {
            "text/plain": [
              "    X(km)  Time(s)\n",
              "0     0.0     0.00\n",
              "1     0.2     0.25\n",
              "2     0.4     0.50\n",
              "3     0.6     0.75\n",
              "4     0.8     1.00\n",
              "5     1.0     1.25\n",
              "6     1.2     1.47\n",
              "7     1.4     1.56\n",
              "8     1.6     1.65\n",
              "9     1.8     1.75\n",
              "10    2.0     1.84\n",
              "11    2.2     1.93\n",
              "12    2.4     2.01\n",
              "13    2.6     2.07\n",
              "14    2.8     2.13\n",
              "15    3.0     2.18"
            ],
            "text/html": [
              "\n",
              "  <div id=\"df-d63d02fb-d8e7-40cf-850f-46c1f6c8fd9e\">\n",
              "    <div class=\"colab-df-container\">\n",
              "      <div>\n",
              "<style scoped>\n",
              "    .dataframe tbody tr th:only-of-type {\n",
              "        vertical-align: middle;\n",
              "    }\n",
              "\n",
              "    .dataframe tbody tr th {\n",
              "        vertical-align: top;\n",
              "    }\n",
              "\n",
              "    .dataframe thead th {\n",
              "        text-align: right;\n",
              "    }\n",
              "</style>\n",
              "<table border=\"1\" class=\"dataframe\">\n",
              "  <thead>\n",
              "    <tr style=\"text-align: right;\">\n",
              "      <th></th>\n",
              "      <th>X(km)</th>\n",
              "      <th>Time(s)</th>\n",
              "    </tr>\n",
              "  </thead>\n",
              "  <tbody>\n",
              "    <tr>\n",
              "      <th>0</th>\n",
              "      <td>0.0</td>\n",
              "      <td>0.00</td>\n",
              "    </tr>\n",
              "    <tr>\n",
              "      <th>1</th>\n",
              "      <td>0.2</td>\n",
              "      <td>0.25</td>\n",
              "    </tr>\n",
              "    <tr>\n",
              "      <th>2</th>\n",
              "      <td>0.4</td>\n",
              "      <td>0.50</td>\n",
              "    </tr>\n",
              "    <tr>\n",
              "      <th>3</th>\n",
              "      <td>0.6</td>\n",
              "      <td>0.75</td>\n",
              "    </tr>\n",
              "    <tr>\n",
              "      <th>4</th>\n",
              "      <td>0.8</td>\n",
              "      <td>1.00</td>\n",
              "    </tr>\n",
              "    <tr>\n",
              "      <th>5</th>\n",
              "      <td>1.0</td>\n",
              "      <td>1.25</td>\n",
              "    </tr>\n",
              "    <tr>\n",
              "      <th>6</th>\n",
              "      <td>1.2</td>\n",
              "      <td>1.47</td>\n",
              "    </tr>\n",
              "    <tr>\n",
              "      <th>7</th>\n",
              "      <td>1.4</td>\n",
              "      <td>1.56</td>\n",
              "    </tr>\n",
              "    <tr>\n",
              "      <th>8</th>\n",
              "      <td>1.6</td>\n",
              "      <td>1.65</td>\n",
              "    </tr>\n",
              "    <tr>\n",
              "      <th>9</th>\n",
              "      <td>1.8</td>\n",
              "      <td>1.75</td>\n",
              "    </tr>\n",
              "    <tr>\n",
              "      <th>10</th>\n",
              "      <td>2.0</td>\n",
              "      <td>1.84</td>\n",
              "    </tr>\n",
              "    <tr>\n",
              "      <th>11</th>\n",
              "      <td>2.2</td>\n",
              "      <td>1.93</td>\n",
              "    </tr>\n",
              "    <tr>\n",
              "      <th>12</th>\n",
              "      <td>2.4</td>\n",
              "      <td>2.01</td>\n",
              "    </tr>\n",
              "    <tr>\n",
              "      <th>13</th>\n",
              "      <td>2.6</td>\n",
              "      <td>2.07</td>\n",
              "    </tr>\n",
              "    <tr>\n",
              "      <th>14</th>\n",
              "      <td>2.8</td>\n",
              "      <td>2.13</td>\n",
              "    </tr>\n",
              "    <tr>\n",
              "      <th>15</th>\n",
              "      <td>3.0</td>\n",
              "      <td>2.18</td>\n",
              "    </tr>\n",
              "  </tbody>\n",
              "</table>\n",
              "</div>\n",
              "      <button class=\"colab-df-convert\" onclick=\"convertToInteractive('df-d63d02fb-d8e7-40cf-850f-46c1f6c8fd9e')\"\n",
              "              title=\"Convert this dataframe to an interactive table.\"\n",
              "              style=\"display:none;\">\n",
              "        \n",
              "  <svg xmlns=\"http://www.w3.org/2000/svg\" height=\"24px\"viewBox=\"0 0 24 24\"\n",
              "       width=\"24px\">\n",
              "    <path d=\"M0 0h24v24H0V0z\" fill=\"none\"/>\n",
              "    <path d=\"M18.56 5.44l.94 2.06.94-2.06 2.06-.94-2.06-.94-.94-2.06-.94 2.06-2.06.94zm-11 1L8.5 8.5l.94-2.06 2.06-.94-2.06-.94L8.5 2.5l-.94 2.06-2.06.94zm10 10l.94 2.06.94-2.06 2.06-.94-2.06-.94-.94-2.06-.94 2.06-2.06.94z\"/><path d=\"M17.41 7.96l-1.37-1.37c-.4-.4-.92-.59-1.43-.59-.52 0-1.04.2-1.43.59L10.3 9.45l-7.72 7.72c-.78.78-.78 2.05 0 2.83L4 21.41c.39.39.9.59 1.41.59.51 0 1.02-.2 1.41-.59l7.78-7.78 2.81-2.81c.8-.78.8-2.07 0-2.86zM5.41 20L4 18.59l7.72-7.72 1.47 1.35L5.41 20z\"/>\n",
              "  </svg>\n",
              "      </button>\n",
              "      \n",
              "  <style>\n",
              "    .colab-df-container {\n",
              "      display:flex;\n",
              "      flex-wrap:wrap;\n",
              "      gap: 12px;\n",
              "    }\n",
              "\n",
              "    .colab-df-convert {\n",
              "      background-color: #E8F0FE;\n",
              "      border: none;\n",
              "      border-radius: 50%;\n",
              "      cursor: pointer;\n",
              "      display: none;\n",
              "      fill: #1967D2;\n",
              "      height: 32px;\n",
              "      padding: 0 0 0 0;\n",
              "      width: 32px;\n",
              "    }\n",
              "\n",
              "    .colab-df-convert:hover {\n",
              "      background-color: #E2EBFA;\n",
              "      box-shadow: 0px 1px 2px rgba(60, 64, 67, 0.3), 0px 1px 3px 1px rgba(60, 64, 67, 0.15);\n",
              "      fill: #174EA6;\n",
              "    }\n",
              "\n",
              "    [theme=dark] .colab-df-convert {\n",
              "      background-color: #3B4455;\n",
              "      fill: #D2E3FC;\n",
              "    }\n",
              "\n",
              "    [theme=dark] .colab-df-convert:hover {\n",
              "      background-color: #434B5C;\n",
              "      box-shadow: 0px 1px 3px 1px rgba(0, 0, 0, 0.15);\n",
              "      filter: drop-shadow(0px 1px 2px rgba(0, 0, 0, 0.3));\n",
              "      fill: #FFFFFF;\n",
              "    }\n",
              "  </style>\n",
              "\n",
              "      <script>\n",
              "        const buttonEl =\n",
              "          document.querySelector('#df-d63d02fb-d8e7-40cf-850f-46c1f6c8fd9e button.colab-df-convert');\n",
              "        buttonEl.style.display =\n",
              "          google.colab.kernel.accessAllowed ? 'block' : 'none';\n",
              "\n",
              "        async function convertToInteractive(key) {\n",
              "          const element = document.querySelector('#df-d63d02fb-d8e7-40cf-850f-46c1f6c8fd9e');\n",
              "          const dataTable =\n",
              "            await google.colab.kernel.invokeFunction('convertToInteractive',\n",
              "                                                     [key], {});\n",
              "          if (!dataTable) return;\n",
              "\n",
              "          const docLinkHtml = 'Like what you see? Visit the ' +\n",
              "            '<a target=\"_blank\" href=https://colab.research.google.com/notebooks/data_table.ipynb>data table notebook</a>'\n",
              "            + ' to learn more about interactive tables.';\n",
              "          element.innerHTML = '';\n",
              "          dataTable['output_type'] = 'display_data';\n",
              "          await google.colab.output.renderOutput(dataTable, element);\n",
              "          const docLink = document.createElement('div');\n",
              "          docLink.innerHTML = docLinkHtml;\n",
              "          element.appendChild(docLink);\n",
              "        }\n",
              "      </script>\n",
              "    </div>\n",
              "  </div>\n",
              "  "
            ]
          },
          "metadata": {},
          "execution_count": 1
        }
      ]
    },
    {
      "cell_type": "markdown",
      "source": [
        "1. Determine the number of layers from the\n",
        "time distance curve and find out the wave\n",
        "velocity in each layer and thickness of the\n",
        "layers, if the layering is horizontal and there is\n",
        "no low speed layer or blind zone in the\n",
        "section\n",
        "\n",
        "\n",
        "2. From the velocities found above, what rock\n",
        "types you would expect to encounter in a drill\n",
        "hole?"
      ],
      "metadata": {
        "id": "-TSb5AVZftIV"
      }
    },
    {
      "cell_type": "code",
      "source": [
        "sns.set_style(\"whitegrid\")\n",
        "plt.figure(figsize = (10, 12))\n",
        "plt.plot(df[\"X(km)\"] , df[\"Time(s)\"],color = \"k\")\n",
        "#extrapolate_1\n",
        "ext_x = [0, 1.14]\n",
        "ext_y = [0.87, 1.42]\n",
        "plt.plot(ext_x, ext_y, color = \"red\")\n",
        "#extrapolate_1\n",
        "ext_x1 = [0, 2.2]\n",
        "ext_y1 = [1.3, 1.93]\n",
        "plt.plot(ext_x1, ext_y1, color = \"b\")\n",
        "plt.xlabel(\"Distance - X(km)\")\n",
        "plt.ylabel(\"Time(s)\")\n",
        "plt.title(\"Time - Distance Graph generates three distrinct straight lines\")\n",
        "plt.xlim(0, 3.2)\n",
        "plt.ylim(0, 2.3)\n",
        "plt.grid()\n",
        "plt.show()"
      ],
      "metadata": {
        "colab": {
          "base_uri": "https://localhost:8080/",
          "height": 730
        },
        "id": "Z5MzwLW7h0we",
        "outputId": "ee1cfa10-cc0c-4c60-82e5-a135ac9e5663"
      },
      "execution_count": 10,
      "outputs": [
        {
          "output_type": "display_data",
          "data": {
            "text/plain": [
              "<Figure size 720x864 with 1 Axes>"
            ],
            "image/png": "[encoded data removed]"
          },
          "metadata": {}
        }
      ]
    },
    {
      "cell_type": "code",
      "source": [
        "# slope determination manual graph paper\n",
        "# slope 1/v1 = (t2-t1)/(x2-x1)\n",
        "\n",
        "def velocity_not(t1, t2, x1, x2):\n",
        "  v_not = (x2 - x1) / (t2 - t1)\n",
        "  return v_not\n",
        "\n",
        "def velocity_one(t1, t2, x1, x2):\n",
        "  v_one = (x2 - x1) / (t2 - t1)\n",
        "  return v_one\n",
        "\n",
        "def velocity_two(t1, t2, x1, x2):\n",
        "  v_two = (x2 - x1) / (t2 - t1)\n",
        "  return v_two\n",
        "\n",
        "\n",
        "# for first straight line\n",
        "t2_not = 0.75\n",
        "t1_not = 0.4\n",
        "x2_not = 0.6\n",
        "x1_not = 0.32\n",
        "v_not = round(velocity_not(t1_not, t2_not, x1_not, x2_not), 3)\n",
        "\n",
        "# for second straight line\n",
        "t2_one = 1.84\n",
        "t1_one = 1.6\n",
        "x2_one = 2.0\n",
        "x1_one = 1.5\n",
        "v_one = round(velocity_one(t1_one, t2_one, x1_one, x2_one), 3)\n",
        "\n",
        "# for third straight line\n",
        "t2_two = 2.13\n",
        "t1_two = 2.0\n",
        "x2_two = 2.8\n",
        "x1_two = 2.4\n",
        "v_two = round(velocity_two(t1_two, t2_two, x1_two, x2_two), 3)\n",
        "  \n",
        "# velocity\n",
        "\n",
        "print(\"v_not = \" + str(v_not) + \" km/s\")\n",
        "print(\"v_one = \" + str(v_one) + \" km/s\")\n",
        "print(\"v_two = \" + str(v_two) + \" km/s\")"
      ],
      "metadata": {
        "id": "tU-yuh1Hkg__",
        "colab": {
          "base_uri": "https://localhost:8080/"
        },
        "outputId": "c63546aa-c63e-40d9-a4de-939c339e16ca"
      },
      "execution_count": 4,
      "outputs": [
        {
          "output_type": "stream",
          "name": "stdout",
          "text": [
            "v_not = 0.8 km/s\n",
            "v_one = 2.083 km/s\n",
            "v_two = 3.077 km/s\n"
          ]
        }
      ]
    },
    {
      "cell_type": "code",
      "source": [
        "#From graph paper \n",
        "# The thickness of the first layer can be obtained by the time_one = 0.87 s\n",
        "# The thickness of the second layer can be obtained by the time_two = 1.3 s\n",
        "\n",
        "ti_one = 0.87\n",
        "ti_two = 1.3\n",
        "\n",
        "def depth_not(v_not, v_one, ti_one):\n",
        "  h_not = (ti_one * v_one * v_not) / (2 * np.sqrt(v_one**2 - v_not**2))\n",
        "  return h_not\n",
        "\n",
        "def depth_one(v_not, v_one, v_two, ti_two):\n",
        "  h_one = ((v_two * v_one) / (2 * np.sqrt(v_two**2 - v_one**2))) * (ti_two -(2 * depth_not(v_not, v_one, ti_one) * np.sqrt(v_two**2 - v_not**2) ) / (v_two * v_not))\n",
        "  return h_one\n",
        "\n",
        "h_not = round(depth_not(v_not, v_one, ti_one), 3)\n",
        "h_one = round(depth_one(v_not, v_one, v_two, ti_two), 3)\n",
        "\n",
        "print(\"The thickness of the first layer = \" +  str(h_not) + \" km\")\n",
        "print(\"The thickness of the second layer = \" +  str(h_one) + \" km\")\n"
      ],
      "metadata": {
        "colab": {
          "base_uri": "https://localhost:8080/"
        },
        "id": "E7aOKApBWNmi",
        "outputId": "da3e3471-38a6-4745-8b46-b6b4a31650dc"
      },
      "execution_count": 7,
      "outputs": [
        {
          "output_type": "stream",
          "name": "stdout",
          "text": [
            "The thickness of the first layer = 0.377 km\n",
            "The thickness of the second layer = 0.552 km\n"
          ]
        }
      ]
    },
    {
      "cell_type": "code",
      "source": [],
      "metadata": {
        "id": "A_ErPj1jYfF4"
      },
      "execution_count": null,
      "outputs": []
    }
  ]
}