{
  "nbformat": 4,
  "nbformat_minor": 0,
  "metadata": {
    "colab": {
      "name": "Exercise_9.ipynb",
      "provenance": [],
      "collapsed_sections": [],
      "authorship_tag": "ABX9TyN7wlFDrxoDixeiCOhnUPJd",
      "include_colab_link": true
    },
    "kernelspec": {
      "name": "python3",
      "display_name": "Python 3"
    },
    "language_info": {
      "name": "python"
    },
    "accelerator": "GPU",
    "gpuClass": "standard"
  },
  "cells": [
    {
      "cell_type": "markdown",
      "metadata": {
        "id": "view-in-github",
        "colab_type": "text"
      },
      "source": [
        "<a href=\"https://colab.research.google.com/github/sajeebju/Seismic-Lab/blob/main/Exercise_9.ipynb\" target=\"_parent\"><img src=\"https://colab.research.google.com/assets/colab-badge.svg\" alt=\"Open In Colab\"/></a>"
      ]
    },
    {
      "cell_type": "markdown",
      "source": [
        "The travel time data for a reflected wave are\n",
        "given in the following table."
      ],
      "metadata": {
        "id": "esjTTFD8-V_p"
      }
    },
    {
      "cell_type": "code",
      "source": [
        "import pandas as pd\n",
        "import numpy as np\n",
        "\n",
        "x_neg = np.array([-1.2, -1.1, -1, -0.9, -0.8, -0.7, -0.6, -0.5, -0.4, -0.3, -0.25, -0.2, -0.15, -0.1, -0.05, 0])\n",
        "time_neg = np.array([1.252, 1.222, 1.193, 1.165, 1.14, 1.115, 1.093, 1.072, 1.053, 1.036, 1.029, 1.022, 1.016, 1.01, 1.005, 1])\n",
        "x_pos = np.array([0.05, 0.1, 0.15, 0.2, 0.25, 0.3, 0.3473, 0.4, 0.5, 0.6, 0.7, 0.8, 0.9, 1.0, 1.1, 1.2])\n",
        "time_pos = np.array([0.996, 0.992, 0.99, 0.987, 0.986, 0.985, 0.9848, 0.985, 0.988, 0.993, 1, 1.01, 1.023, 1.037, 1.054, 1.073])\n",
        "\n",
        "df = pd.DataFrame({\"x_neg(km)\" : x_neg, \"time_neg(s)\" : time_neg, \"x_pos(km)\" : x_pos, \"time_pos(s)\" : time_pos})\n",
        "df"
      ],
      "metadata": {
        "colab": {
          "base_uri": "https://localhost:8080/",
          "height": 551
        },
        "id": "K3ymuxP2-O4S",
        "outputId": "506fad4b-6911-4d0a-98ce-35e4ac2bb530"
      },
      "execution_count": 1,
      "outputs": [
        {
          "output_type": "execute_result",
          "data": {
            "text/plain": [
              "    x_neg(km)  time_neg(s)  x_pos(km)  time_pos(s)\n",
              "0       -1.20        1.252     0.0500       0.9960\n",
              "1       -1.10        1.222     0.1000       0.9920\n",
              "2       -1.00        1.193     0.1500       0.9900\n",
              "3       -0.90        1.165     0.2000       0.9870\n",
              "4       -0.80        1.140     0.2500       0.9860\n",
              "5       -0.70        1.115     0.3000       0.9850\n",
              "6       -0.60        1.093     0.3473       0.9848\n",
              "7       -0.50        1.072     0.4000       0.9850\n",
              "8       -0.40        1.053     0.5000       0.9880\n",
              "9       -0.30        1.036     0.6000       0.9930\n",
              "10      -0.25        1.029     0.7000       1.0000\n",
              "11      -0.20        1.022     0.8000       1.0100\n",
              "12      -0.15        1.016     0.9000       1.0230\n",
              "13      -0.10        1.010     1.0000       1.0370\n",
              "14      -0.05        1.005     1.1000       1.0540\n",
              "15       0.00        1.000     1.2000       1.0730"
            ],
            "text/html": [
              "\n",
              "  <div id=\"df-60d07685-6ad2-4b05-999a-83892268eca8\">\n",
              "    <div class=\"colab-df-container\">\n",
              "      <div>\n",
              "<style scoped>\n",
              "    .dataframe tbody tr th:only-of-type {\n",
              "        vertical-align: middle;\n",
              "    }\n",
              "\n",
              "    .dataframe tbody tr th {\n",
              "        vertical-align: top;\n",
              "    }\n",
              "\n",
              "    .dataframe thead th {\n",
              "        text-align: right;\n",
              "    }\n",
              "</style>\n",
              "<table border=\"1\" class=\"dataframe\">\n",
              "  <thead>\n",
              "    <tr style=\"text-align: right;\">\n",
              "      <th></th>\n",
              "      <th>x_neg(km)</th>\n",
              "      <th>time_neg(s)</th>\n",
              "      <th>x_pos(km)</th>\n",
              "      <th>time_pos(s)</th>\n",
              "    </tr>\n",
              "  </thead>\n",
              "  <tbody>\n",
              "    <tr>\n",
              "      <th>0</th>\n",
              "      <td>-1.20</td>\n",
              "      <td>1.252</td>\n",
              "      <td>0.0500</td>\n",
              "      <td>0.9960</td>\n",
              "    </tr>\n",
              "    <tr>\n",
              "      <th>1</th>\n",
              "      <td>-1.10</td>\n",
              "      <td>1.222</td>\n",
              "      <td>0.1000</td>\n",
              "      <td>0.9920</td>\n",
              "    </tr>\n",
              "    <tr>\n",
              "      <th>2</th>\n",
              "      <td>-1.00</td>\n",
              "      <td>1.193</td>\n",
              "      <td>0.1500</td>\n",
              "      <td>0.9900</td>\n",
              "    </tr>\n",
              "    <tr>\n",
              "      <th>3</th>\n",
              "      <td>-0.90</td>\n",
              "      <td>1.165</td>\n",
              "      <td>0.2000</td>\n",
              "      <td>0.9870</td>\n",
              "    </tr>\n",
              "    <tr>\n",
              "      <th>4</th>\n",
              "      <td>-0.80</td>\n",
              "      <td>1.140</td>\n",
              "      <td>0.2500</td>\n",
              "      <td>0.9860</td>\n",
              "    </tr>\n",
              "    <tr>\n",
              "      <th>5</th>\n",
              "      <td>-0.70</td>\n",
              "      <td>1.115</td>\n",
              "      <td>0.3000</td>\n",
              "      <td>0.9850</td>\n",
              "    </tr>\n",
              "    <tr>\n",
              "      <th>6</th>\n",
              "      <td>-0.60</td>\n",
              "      <td>1.093</td>\n",
              "      <td>0.3473</td>\n",
              "      <td>0.9848</td>\n",
              "    </tr>\n",
              "    <tr>\n",
              "      <th>7</th>\n",
              "      <td>-0.50</td>\n",
              "      <td>1.072</td>\n",
              "      <td>0.4000</td>\n",
              "      <td>0.9850</td>\n",
              "    </tr>\n",
              "    <tr>\n",
              "      <th>8</th>\n",
              "      <td>-0.40</td>\n",
              "      <td>1.053</td>\n",
              "      <td>0.5000</td>\n",
              "      <td>0.9880</td>\n",
              "    </tr>\n",
              "    <tr>\n",
              "      <th>9</th>\n",
              "      <td>-0.30</td>\n",
              "      <td>1.036</td>\n",
              "      <td>0.6000</td>\n",
              "      <td>0.9930</td>\n",
              "    </tr>\n",
              "    <tr>\n",
              "      <th>10</th>\n",
              "      <td>-0.25</td>\n",
              "      <td>1.029</td>\n",
              "      <td>0.7000</td>\n",
              "      <td>1.0000</td>\n",
              "    </tr>\n",
              "    <tr>\n",
              "      <th>11</th>\n",
              "      <td>-0.20</td>\n",
              "      <td>1.022</td>\n",
              "      <td>0.8000</td>\n",
              "      <td>1.0100</td>\n",
              "    </tr>\n",
              "    <tr>\n",
              "      <th>12</th>\n",
              "      <td>-0.15</td>\n",
              "      <td>1.016</td>\n",
              "      <td>0.9000</td>\n",
              "      <td>1.0230</td>\n",
              "    </tr>\n",
              "    <tr>\n",
              "      <th>13</th>\n",
              "      <td>-0.10</td>\n",
              "      <td>1.010</td>\n",
              "      <td>1.0000</td>\n",
              "      <td>1.0370</td>\n",
              "    </tr>\n",
              "    <tr>\n",
              "      <th>14</th>\n",
              "      <td>-0.05</td>\n",
              "      <td>1.005</td>\n",
              "      <td>1.1000</td>\n",
              "      <td>1.0540</td>\n",
              "    </tr>\n",
              "    <tr>\n",
              "      <th>15</th>\n",
              "      <td>0.00</td>\n",
              "      <td>1.000</td>\n",
              "      <td>1.2000</td>\n",
              "      <td>1.0730</td>\n",
              "    </tr>\n",
              "  </tbody>\n",
              "</table>\n",
              "</div>\n",
              "      <button class=\"colab-df-convert\" onclick=\"convertToInteractive('df-60d07685-6ad2-4b05-999a-83892268eca8')\"\n",
              "              title=\"Convert this dataframe to an interactive table.\"\n",
              "              style=\"display:none;\">\n",
              "        \n",
              "  <svg xmlns=\"http://www.w3.org/2000/svg\" height=\"24px\"viewBox=\"0 0 24 24\"\n",
              "       width=\"24px\">\n",
              "    <path d=\"M0 0h24v24H0V0z\" fill=\"none\"/>\n",
              "    <path d=\"M18.56 5.44l.94 2.06.94-2.06 2.06-.94-2.06-.94-.94-2.06-.94 2.06-2.06.94zm-11 1L8.5 8.5l.94-2.06 2.06-.94-2.06-.94L8.5 2.5l-.94 2.06-2.06.94zm10 10l.94 2.06.94-2.06 2.06-.94-2.06-.94-.94-2.06-.94 2.06-2.06.94z\"/><path d=\"M17.41 7.96l-1.37-1.37c-.4-.4-.92-.59-1.43-.59-.52 0-1.04.2-1.43.59L10.3 9.45l-7.72 7.72c-.78.78-.78 2.05 0 2.83L4 21.41c.39.39.9.59 1.41.59.51 0 1.02-.2 1.41-.59l7.78-7.78 2.81-2.81c.8-.78.8-2.07 0-2.86zM5.41 20L4 18.59l7.72-7.72 1.47 1.35L5.41 20z\"/>\n",
              "  </svg>\n",
              "      </button>\n",
              "      \n",
              "  <style>\n",
              "    .colab-df-container {\n",
              "      display:flex;\n",
              "      flex-wrap:wrap;\n",
              "      gap: 12px;\n",
              "    }\n",
              "\n",
              "    .colab-df-convert {\n",
              "      background-color: #E8F0FE;\n",
              "      border: none;\n",
              "      border-radius: 50%;\n",
              "      cursor: pointer;\n",
              "      display: none;\n",
              "      fill: #1967D2;\n",
              "      height: 32px;\n",
              "      padding: 0 0 0 0;\n",
              "      width: 32px;\n",
              "    }\n",
              "\n",
              "    .colab-df-convert:hover {\n",
              "      background-color: #E2EBFA;\n",
              "      box-shadow: 0px 1px 2px rgba(60, 64, 67, 0.3), 0px 1px 3px 1px rgba(60, 64, 67, 0.15);\n",
              "      fill: #174EA6;\n",
              "    }\n",
              "\n",
              "    [theme=dark] .colab-df-convert {\n",
              "      background-color: #3B4455;\n",
              "      fill: #D2E3FC;\n",
              "    }\n",
              "\n",
              "    [theme=dark] .colab-df-convert:hover {\n",
              "      background-color: #434B5C;\n",
              "      box-shadow: 0px 1px 3px 1px rgba(0, 0, 0, 0.15);\n",
              "      filter: drop-shadow(0px 1px 2px rgba(0, 0, 0, 0.3));\n",
              "      fill: #FFFFFF;\n",
              "    }\n",
              "  </style>\n",
              "\n",
              "      <script>\n",
              "        const buttonEl =\n",
              "          document.querySelector('#df-60d07685-6ad2-4b05-999a-83892268eca8 button.colab-df-convert');\n",
              "        buttonEl.style.display =\n",
              "          google.colab.kernel.accessAllowed ? 'block' : 'none';\n",
              "\n",
              "        async function convertToInteractive(key) {\n",
              "          const element = document.querySelector('#df-60d07685-6ad2-4b05-999a-83892268eca8');\n",
              "          const dataTable =\n",
              "            await google.colab.kernel.invokeFunction('convertToInteractive',\n",
              "                                                     [key], {});\n",
              "          if (!dataTable) return;\n",
              "\n",
              "          const docLinkHtml = 'Like what you see? Visit the ' +\n",
              "            '<a target=\"_blank\" href=https://colab.research.google.com/notebooks/data_table.ipynb>data table notebook</a>'\n",
              "            + ' to learn more about interactive tables.';\n",
              "          element.innerHTML = '';\n",
              "          dataTable['output_type'] = 'display_data';\n",
              "          await google.colab.output.renderOutput(dataTable, element);\n",
              "          const docLink = document.createElement('div');\n",
              "          docLink.innerHTML = docLinkHtml;\n",
              "          element.appendChild(docLink);\n",
              "        }\n",
              "      </script>\n",
              "    </div>\n",
              "  </div>\n",
              "  "
            ]
          },
          "metadata": {},
          "execution_count": 1
        }
      ]
    },
    {
      "cell_type": "markdown",
      "source": [
        "1.Determine approximately the overburden velocity and the reflector dip.\n",
        "\n",
        "2.Compute Vs and plot the dynamically corrected reflection section for the given data\n",
        "set.\n",
        "\n",
        "3.Transform graphically the reflection section into a migrated depth section and verify\n",
        "that the structural dip corresponds to that determined in 1.\n",
        "\n",
        "From the velocity found above, what rock types you would expect to encounter in a drill\n",
        "hole?"
      ],
      "metadata": {
        "id": "CCiYBjiK-bDK"
      }
    },
    {
      "cell_type": "code",
      "source": [
        "# Normal  Moveout Determination\n",
        "\n",
        "def normalMoveOut(t1, t2, t0):\n",
        "  nmo = (t1 + t2 - 2*t0) / 2\n",
        "  return nmo\n",
        "\n",
        "t1 = 1.252\n",
        "t2 = 1.073\n",
        "t0 = 1\n",
        "\n",
        "NMO = round(normalMoveOut(t1, t2, t0), 4)\n",
        "print(\"Normal Moveout = \", NMO)"
      ],
      "metadata": {
        "colab": {
          "base_uri": "https://localhost:8080/"
        },
        "id": "xt9cjrI5-PBZ",
        "outputId": "e4c36427-f446-4082-9463-34dbdb82e578"
      },
      "execution_count": 2,
      "outputs": [
        {
          "output_type": "stream",
          "name": "stdout",
          "text": [
            "Normal Moveout =  0.1625\n"
          ]
        }
      ]
    },
    {
      "cell_type": "code",
      "source": [
        "#Overbureden Velocity\n",
        "\n",
        "def overBurdenVelocity(x, del_t, t0):\n",
        "  v = np.sqrt(x**2 / (2 * t0 * del_t))\n",
        "  return v\n",
        "\n",
        "x = 1.2\n",
        "del_t = NMO\n",
        "t0 = 1\n",
        "\n",
        "ov = round(overBurdenVelocity(x, del_t, t0), 3)\n",
        "print(\"Overburden velocity = \", ov, \" km/s\")\n"
      ],
      "metadata": {
        "colab": {
          "base_uri": "https://localhost:8080/"
        },
        "id": "qEoZLOFJCThN",
        "outputId": "17367f07-5190-420c-d7ce-8bd1e752a7e2"
      },
      "execution_count": 3,
      "outputs": [
        {
          "output_type": "stream",
          "name": "stdout",
          "text": [
            "Overburden velocity =  2.105  km/s\n"
          ]
        }
      ]
    },
    {
      "cell_type": "code",
      "source": [
        "# Reflector dip determination using dip moveout\n",
        "\n",
        "def reflector_dip(v, del_td, del_x):\n",
        "  phi = np.degrees(np.arcsin((v/2) * (del_td / del_x)))\n",
        "  return phi\n",
        "\n",
        "del_td = round(df.iloc[0][\"time_neg(s)\"] - df.iloc[len(df[\"time_pos(s)\"]) - 1][\"time_pos(s)\"], 2)\n",
        "del_x = 1.2\n",
        "\n",
        "dip = round(reflector_dip(ov, del_td, del_x), 1)\n",
        "\n",
        "print(\"Reflector dip = \", dip, \" degree\")"
      ],
      "metadata": {
        "colab": {
          "base_uri": "https://localhost:8080/"
        },
        "id": "XEa_daaqFly4",
        "outputId": "03c2ec51-5416-40e9-e46e-18dec63522f7"
      },
      "execution_count": 4,
      "outputs": [
        {
          "output_type": "stream",
          "name": "stdout",
          "text": [
            "Reflector dip =  9.1  degree\n"
          ]
        }
      ]
    },
    {
      "cell_type": "code",
      "source": [
        "# stacking velocity determination\n",
        "\n",
        "def stackingVelocity(v, phi):\n",
        "  Vs = v / abs(np.cos(phi))\n",
        "  return Vs\n",
        "\n",
        "v = ov\n",
        "phi = dip\n",
        "sv = round(stackingVelocity(v, phi), 3)\n",
        "print(\"Stacking velocity = \", sv, \" km/s\")"
      ],
      "metadata": {
        "colab": {
          "base_uri": "https://localhost:8080/"
        },
        "id": "LPc7-ZceFl5_",
        "outputId": "6f09628f-7d0f-44eb-de95-d81f115884a0"
      },
      "execution_count": 5,
      "outputs": [
        {
          "output_type": "stream",
          "name": "stdout",
          "text": [
            "Stacking velocity =  2.221  km/s\n"
          ]
        }
      ]
    },
    {
      "cell_type": "code",
      "source": [
        "# dynamically corrected reflection section\n",
        "# tn(x/2) = sqrt(((t(x)**2 - (x**2/Vs**2))))\n",
        "\n",
        "def dynamically_corrected_neg(tx_neg, x, sv):\n",
        "  var1 =  tx_neg**2 - ((x**2)/(sv**2))\n",
        "  tn = np.power(abs(var1), 0.5)\n",
        "  return tn\n",
        "\n",
        "def dynamically_corrected_pos(tx_pos, x, sv):\n",
        "  var2 = tx_pos**2 - ((x**2)/(sv**2))\n",
        "  tn = np.power(abs(var2), 0.5)\n",
        "  return tn\n",
        "\n",
        "tx_neg = 1.252\n",
        "tx_pos = 1.073\n",
        "sv = 2.221\n",
        "x = 1.2\n",
        "dc_neg = round(dynamically_corrected_neg(tx_neg, x, sv),3)\n",
        "dc_pos = round(dynamically_corrected_pos(tx_pos, x, sv), 3)\n",
        "\n",
        "print(\"Dynamically corrected tn_neg = \", dc_neg, \" s\")\n",
        "print(\"Dynamically corrected tn_pos = \", dc_pos, \" s\")\n"
      ],
      "metadata": {
        "colab": {
          "base_uri": "https://localhost:8080/"
        },
        "id": "ZPXgfuPQM0E9",
        "outputId": "57223d0e-ec89-4c0d-e515-0095405387e2"
      },
      "execution_count": 6,
      "outputs": [
        {
          "output_type": "stream",
          "name": "stdout",
          "text": [
            "Dynamically corrected tn_neg =  1.129  s\n",
            "Dynamically corrected tn_pos =  0.927  s\n"
          ]
        }
      ]
    },
    {
      "cell_type": "code",
      "source": [
        "# depth determination\n",
        "\n",
        "d1 = round((dc_neg * ov) / 2 , 2)\n",
        "d2 = round((dc_pos * ov) / 2, 2)\n",
        "\n",
        "print(\"Depth_1 = \", d1, \" km\")\n",
        "print(\"Depth_2 = \", d2, \" km\")"
      ],
      "metadata": {
        "colab": {
          "base_uri": "https://localhost:8080/"
        },
        "id": "tgsZys543g0t",
        "outputId": "81d8ba1a-79cb-44e7-a452-b918f3044216"
      },
      "execution_count": 10,
      "outputs": [
        {
          "output_type": "stream",
          "name": "stdout",
          "text": [
            "Depth_1 =  1.19  km\n",
            "Depth_2 =  0.98  km\n"
          ]
        }
      ]
    },
    {
      "cell_type": "code",
      "source": [
        "# plotting distance and time\n",
        "\n",
        "import matplotlib.pyplot as plt\n",
        "plt.style.use(\"seaborn\")\n",
        "\n",
        "d_neg = np.array([-0.6, 0.6])\n",
        "d_pos = np.array([-1.19, -0.98])\n",
        "\n",
        "offset_neg = df[\"x_neg(km)\"].to_numpy()\n",
        "offset_pos = df[\"x_pos(km)\"].to_numpy()\n",
        "\n",
        "time_neg = df[\"time_neg(s)\"].to_numpy()\n",
        "time_pos = df[\"time_pos(s)\"].to_numpy()\n",
        "\n",
        "offset_arr = np.concatenate([offset_neg, offset_pos])\n",
        "time_arr = np.concatenate([time_neg, time_pos])\n",
        "\n",
        "plt.figure(figsize = (12, 16))\n",
        "plt.plot(offset_arr, time_arr)\n",
        "plt.plot(d_neg, d_pos, color = \"r\")\n",
        "plt.annotate(\"(0, 0)\", (0, 0))\n",
        "plt.annotate(\"Depth(km)\", (0, -0.5))\n",
        "plt.xlabel(\"Distance(km) -------\")\n",
        "plt.ylabel(\"Time(s) -------\")\n",
        "plt.xlim(-1.5, 1.5)\n",
        "plt.ylim(-1.5, 1.5)\n",
        "plt.hlines(0, -1.5, 1.5)\n",
        "plt.vlines(0, -1.5, 1.5)\n",
        "plt.grid(True)\n",
        "plt.show()"
      ],
      "metadata": {
        "colab": {
          "base_uri": "https://localhost:8080/",
          "height": 936
        },
        "id": "ADlo1woIDZ9S",
        "outputId": "24246a45-7326-462d-f070-ec1a18674ceb"
      },
      "execution_count": 28,
      "outputs": [
        {
          "output_type": "display_data",
          "data": {
            "text/plain": [
              "<Figure size 864x1152 with 1 Axes>"
            ],
            "image/png": "[encoded data removed]"
          },
          "metadata": {}
        }
      ]
    },
    {
      "cell_type": "code",
      "source": [],
      "metadata": {
        "id": "fTDAd4VKELKs"
      },
      "execution_count": null,
      "outputs": []
    }
  ]
}