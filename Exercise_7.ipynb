{
  "nbformat": 4,
  "nbformat_minor": 0,
  "metadata": {
    "colab": {
      "name": "Exercise_7.ipynb",
      "provenance": [],
      "collapsed_sections": [],
      "authorship_tag": "ABX9TyMrFMDERePOnAHHJCtmWAmh",
      "include_colab_link": true
    },
    "kernelspec": {
      "name": "python3",
      "display_name": "Python 3"
    },
    "language_info": {
      "name": "python"
    },
    "accelerator": "GPU"
  },
  "cells": [
    {
      "cell_type": "markdown",
      "metadata": {
        "id": "view-in-github",
        "colab_type": "text"
      },
      "source": [
        "<a href=\"https://colab.research.google.com/github/sajeebju/Seismic-Lab/blob/main/Exercise_7.ipynb\" target=\"_parent\"><img src=\"https://colab.research.google.com/assets/colab-badge.svg\" alt=\"Open In Colab\"/></a>"
      ]
    },
    {
      "cell_type": "markdown",
      "source": [
        "# Exercise - 7"
      ],
      "metadata": {
        "id": "ENdCWkFxGQg6"
      }
    },
    {
      "cell_type": "markdown",
      "source": [
        "A) Assume a boundary between two beds, which dips at an angle of 5 0 . The seismic\n",
        "velocity above the interface is 1 km/s and that below it is 2.5 km/s. The perpendicular\n",
        "distance from the shot to the interface at the end of the profile at which shooting made\n",
        "downdip is 0.25 km.\n",
        "\n",
        "Calculate the arrival times for direct wave, reflected wave, and refracted wave if the\n",
        "recording is conducted at an interval of 0.1 km in the range of 1.5 km from the shot\n",
        "point.\n",
        "Plot a few ray-path trajectories and show the timedistance relations for the waves. Find\n",
        "out the critical distance (Xcrit) and the crossover distance (Xcross) from the diagram."
      ],
      "metadata": {
        "id": "Oupw3wCXiYvf"
      }
    },
    {
      "cell_type": "code",
      "source": [
        "import numpy as np\n",
        "import math\n",
        "import matplotlib.pyplot as plt\n",
        "\n",
        "direct_arr = []\n",
        "reflection_arr = []\n",
        "refraction_arr = []\n",
        "\n",
        "def direct_wave(x_start, x_end, v):\n",
        "  for i in np.arange(x_start, x_end + 0.1, 0.1):\n",
        "    t = i / v\n",
        "    direct_arr.append(round(t, 3))\n",
        "  return direct_arr\n",
        "    \n",
        "\n",
        "def reflection_wave(x_start, x_end, h, theta, v):\n",
        "  for i in np.arange(x_start, x_end + 0.1, 0.1):\n",
        "    t = 1/v * (np.sqrt(i**2 + 4*h**2 + 4*h*i*np.sin((np.radians(theta)))))\n",
        "    reflection_arr.append(round(t, 3))\n",
        "  return reflection_arr\n",
        "    \n",
        "\n",
        "def refraction_wave(x_start, x_end, h,theta, theta_c, v):\n",
        "  for i in np.arange(x_start, x_end + 0.1, 0.1):\n",
        "    t = (2*h*np.cos(np.radians(theta_c))) / v + (i*np.sin(np.radians(theta_c + theta)))/v\n",
        "    refraction_arr.append(round(t, 3))\n",
        "  return refraction_arr\n",
        "    \n",
        "\n",
        "v = 1\n",
        "v1 = 2.5\n",
        "theta_c = np.degrees(np.arcsin(v/v1))\n",
        "x_start = 0\n",
        "x_end = 1.5\n",
        "h = 0.25\n",
        "theta = 5\n",
        "\n",
        "reflection_time = reflection_wave(x_start, x_end, h, theta, v)\n",
        "refraction_time = refraction_wave(x_start, x_end, h, theta, theta_c,v)\n",
        "direct_time = direct_wave(x_start, x_end, v)\n"
      ],
      "metadata": {
        "id": "cXSGrWDNe0Dn"
      },
      "execution_count": 1,
      "outputs": []
    },
    {
      "cell_type": "code",
      "source": [
        "print(\"Reflection time = \", reflection_time)\n",
        "print(\"Refraction time = \", refraction_time)\n",
        "print(\"Direct wave time = \", direct_time)\n"
      ],
      "metadata": {
        "colab": {
          "base_uri": "https://localhost:8080/"
        },
        "id": "XNjaTLALAN9X",
        "outputId": "5feb412f-dc71-47c8-8597-cbda6dfe749d"
      },
      "execution_count": 18,
      "outputs": [
        {
          "output_type": "stream",
          "name": "stdout",
          "text": [
            "Reflection time =  [0.5, 0.518, 0.554, 0.605, 0.667, 0.737, 0.814, 0.895, 0.98, 1.067, 1.156, 1.247, 1.34, 1.433, 1.527, 1.622]\n",
            "Refraction time =  [0.458, 0.506, 0.554, 0.602, 0.65, 0.697, 0.745, 0.793, 0.841, 0.889, 0.937, 0.984, 1.032, 1.08, 1.128, 1.176]\n",
            "Direct wave time =  [0.0, 0.1, 0.2, 0.3, 0.4, 0.5, 0.6, 0.7, 0.8, 0.9, 1.0, 1.1, 1.2, 1.3, 1.4, 1.5]\n"
          ]
        }
      ]
    },
    {
      "cell_type": "code",
      "source": [
        "# Incomplete code for plotting ray path\n",
        "\n",
        "# x_range = np.arange(0, 1.5 + 0.1, 0.1)\n",
        "# plt.figure(figsize = (12, 14))\n",
        "# plt.plot(x_range, direct_time)\n",
        "# plt.plot(x_range, reflection_time)\n",
        "# plt.plot(x_range, refraction_time)\n",
        "\n",
        "# x1, y1  = (0, 0)\n",
        "# angle_1 = 265\n",
        "# length_1 = 0.5\n",
        "\n",
        "# endy_1 = y1 + length_1 * math.sin(math.radians(angle_1))\n",
        "# endx_1 = length_1 * math.cos(math.radians(angle_1))\n",
        "# plt.plot([x1, endx_1], [y1, endy_1])\n",
        "\n",
        "# x, y = (-0.015, -0.25)\n",
        "# angle = 355\n",
        "# length = 1.5\n",
        "\n",
        "# endy = y + length * math.sin(math.radians(angle))\n",
        "# endx = length * math.cos(math.radians(angle))\n",
        "# plt.plot([x, endx], [y, endy])\n",
        "\n",
        "# a1 = -0.001\n",
        "# b1 = -0.5\n",
        "\n",
        "# b2 = -0.04\n",
        "# for i in np.arange(0.1, 1.5+0.1, 0.1):\n",
        "#   plt.plot([i, b2], [a1, b1])\n",
        "\n",
        "# plt.xlabel(\"Distance-km\")\n",
        "# plt.ylabel(\"Time-s\")\n",
        "# plt.grid(True)\n",
        "# plt.xlim(-0.4, 1.6)\n",
        "# plt.ylim(-0.8, 1.8)\n",
        "# plt.show()"
      ],
      "metadata": {
        "id": "DlXfxRn_e0nY"
      },
      "execution_count": 19,
      "outputs": []
    },
    {
      "cell_type": "markdown",
      "source": [
        "B) The travel time data for a reflected wave are given in the following table."
      ],
      "metadata": {
        "id": "EaGVHqe-fUan"
      }
    },
    {
      "cell_type": "code",
      "source": [
        "import pandas as pd\n",
        "import numpy as np\n",
        "\n",
        "X_meter_pos = np.array([0, 200, 400, 600, 800, 1000])\n",
        "t_sec_pos = np.array([0.5, 0.53, 0.60, 0.70, 0.83, 0.97])\n",
        "X_meter_neg = np.array([np.nan, -200, -400, -600, -800, -1000])\n",
        "t_sec_neg = np.array([np.nan,0.53, 0.60, 0.70, 0.83, 0.97])\n",
        "\n",
        "df = pd.DataFrame({\"X_pos(meter)\" : X_meter_pos, \"t_p(s)\" : t_sec_pos, \"X_neg(meter)\"  : X_meter_neg, \"t_n(s)\" :t_sec_neg})\n",
        "df"
      ],
      "metadata": {
        "colab": {
          "base_uri": "https://localhost:8080/",
          "height": 237
        },
        "id": "yQQd8M2HfOBP",
        "outputId": "c71d1620-6a72-423c-e01e-ef9a331cc429"
      },
      "execution_count": null,
      "outputs": [
        {
          "output_type": "execute_result",
          "data": {
            "text/plain": [
              "   X_pos(meter)  t_p(s)  X_neg(meter)  t_n(s)\n",
              "0             0    0.50           NaN     NaN\n",
              "1           200    0.53        -200.0    0.53\n",
              "2           400    0.60        -400.0    0.60\n",
              "3           600    0.70        -600.0    0.70\n",
              "4           800    0.83        -800.0    0.83\n",
              "5          1000    0.97       -1000.0    0.97"
            ],
            "text/html": [
              "\n",
              "  <div id=\"df-bc084666-1f88-4499-ba89-2337342ec043\">\n",
              "    <div class=\"colab-df-container\">\n",
              "      <div>\n",
              "<style scoped>\n",
              "    .dataframe tbody tr th:only-of-type {\n",
              "        vertical-align: middle;\n",
              "    }\n",
              "\n",
              "    .dataframe tbody tr th {\n",
              "        vertical-align: top;\n",
              "    }\n",
              "\n",
              "    .dataframe thead th {\n",
              "        text-align: right;\n",
              "    }\n",
              "</style>\n",
              "<table border=\"1\" class=\"dataframe\">\n",
              "  <thead>\n",
              "    <tr style=\"text-align: right;\">\n",
              "      <th></th>\n",
              "      <th>X_pos(meter)</th>\n",
              "      <th>t_p(s)</th>\n",
              "      <th>X_neg(meter)</th>\n",
              "      <th>t_n(s)</th>\n",
              "    </tr>\n",
              "  </thead>\n",
              "  <tbody>\n",
              "    <tr>\n",
              "      <th>0</th>\n",
              "      <td>0</td>\n",
              "      <td>0.50</td>\n",
              "      <td>NaN</td>\n",
              "      <td>NaN</td>\n",
              "    </tr>\n",
              "    <tr>\n",
              "      <th>1</th>\n",
              "      <td>200</td>\n",
              "      <td>0.53</td>\n",
              "      <td>-200.0</td>\n",
              "      <td>0.53</td>\n",
              "    </tr>\n",
              "    <tr>\n",
              "      <th>2</th>\n",
              "      <td>400</td>\n",
              "      <td>0.60</td>\n",
              "      <td>-400.0</td>\n",
              "      <td>0.60</td>\n",
              "    </tr>\n",
              "    <tr>\n",
              "      <th>3</th>\n",
              "      <td>600</td>\n",
              "      <td>0.70</td>\n",
              "      <td>-600.0</td>\n",
              "      <td>0.70</td>\n",
              "    </tr>\n",
              "    <tr>\n",
              "      <th>4</th>\n",
              "      <td>800</td>\n",
              "      <td>0.83</td>\n",
              "      <td>-800.0</td>\n",
              "      <td>0.83</td>\n",
              "    </tr>\n",
              "    <tr>\n",
              "      <th>5</th>\n",
              "      <td>1000</td>\n",
              "      <td>0.97</td>\n",
              "      <td>-1000.0</td>\n",
              "      <td>0.97</td>\n",
              "    </tr>\n",
              "  </tbody>\n",
              "</table>\n",
              "</div>\n",
              "      <button class=\"colab-df-convert\" onclick=\"convertToInteractive('df-bc084666-1f88-4499-ba89-2337342ec043')\"\n",
              "              title=\"Convert this dataframe to an interactive table.\"\n",
              "              style=\"display:none;\">\n",
              "        \n",
              "  <svg xmlns=\"http://www.w3.org/2000/svg\" height=\"24px\"viewBox=\"0 0 24 24\"\n",
              "       width=\"24px\">\n",
              "    <path d=\"M0 0h24v24H0V0z\" fill=\"none\"/>\n",
              "    <path d=\"M18.56 5.44l.94 2.06.94-2.06 2.06-.94-2.06-.94-.94-2.06-.94 2.06-2.06.94zm-11 1L8.5 8.5l.94-2.06 2.06-.94-2.06-.94L8.5 2.5l-.94 2.06-2.06.94zm10 10l.94 2.06.94-2.06 2.06-.94-2.06-.94-.94-2.06-.94 2.06-2.06.94z\"/><path d=\"M17.41 7.96l-1.37-1.37c-.4-.4-.92-.59-1.43-.59-.52 0-1.04.2-1.43.59L10.3 9.45l-7.72 7.72c-.78.78-.78 2.05 0 2.83L4 21.41c.39.39.9.59 1.41.59.51 0 1.02-.2 1.41-.59l7.78-7.78 2.81-2.81c.8-.78.8-2.07 0-2.86zM5.41 20L4 18.59l7.72-7.72 1.47 1.35L5.41 20z\"/>\n",
              "  </svg>\n",
              "      </button>\n",
              "      \n",
              "  <style>\n",
              "    .colab-df-container {\n",
              "      display:flex;\n",
              "      flex-wrap:wrap;\n",
              "      gap: 12px;\n",
              "    }\n",
              "\n",
              "    .colab-df-convert {\n",
              "      background-color: #E8F0FE;\n",
              "      border: none;\n",
              "      border-radius: 50%;\n",
              "      cursor: pointer;\n",
              "      display: none;\n",
              "      fill: #1967D2;\n",
              "      height: 32px;\n",
              "      padding: 0 0 0 0;\n",
              "      width: 32px;\n",
              "    }\n",
              "\n",
              "    .colab-df-convert:hover {\n",
              "      background-color: #E2EBFA;\n",
              "      box-shadow: 0px 1px 2px rgba(60, 64, 67, 0.3), 0px 1px 3px 1px rgba(60, 64, 67, 0.15);\n",
              "      fill: #174EA6;\n",
              "    }\n",
              "\n",
              "    [theme=dark] .colab-df-convert {\n",
              "      background-color: #3B4455;\n",
              "      fill: #D2E3FC;\n",
              "    }\n",
              "\n",
              "    [theme=dark] .colab-df-convert:hover {\n",
              "      background-color: #434B5C;\n",
              "      box-shadow: 0px 1px 3px 1px rgba(0, 0, 0, 0.15);\n",
              "      filter: drop-shadow(0px 1px 2px rgba(0, 0, 0, 0.3));\n",
              "      fill: #FFFFFF;\n",
              "    }\n",
              "  </style>\n",
              "\n",
              "      <script>\n",
              "        const buttonEl =\n",
              "          document.querySelector('#df-bc084666-1f88-4499-ba89-2337342ec043 button.colab-df-convert');\n",
              "        buttonEl.style.display =\n",
              "          google.colab.kernel.accessAllowed ? 'block' : 'none';\n",
              "\n",
              "        async function convertToInteractive(key) {\n",
              "          const element = document.querySelector('#df-bc084666-1f88-4499-ba89-2337342ec043');\n",
              "          const dataTable =\n",
              "            await google.colab.kernel.invokeFunction('convertToInteractive',\n",
              "                                                     [key], {});\n",
              "          if (!dataTable) return;\n",
              "\n",
              "          const docLinkHtml = 'Like what you see? Visit the ' +\n",
              "            '<a target=\"_blank\" href=https://colab.research.google.com/notebooks/data_table.ipynb>data table notebook</a>'\n",
              "            + ' to learn more about interactive tables.';\n",
              "          element.innerHTML = '';\n",
              "          dataTable['output_type'] = 'display_data';\n",
              "          await google.colab.output.renderOutput(dataTable, element);\n",
              "          const docLink = document.createElement('div');\n",
              "          docLink.innerHTML = docLinkHtml;\n",
              "          element.appendChild(docLink);\n",
              "        }\n",
              "      </script>\n",
              "    </div>\n",
              "  </div>\n",
              "  "
            ]
          },
          "metadata": {},
          "execution_count": 29
        }
      ]
    },
    {
      "cell_type": "markdown",
      "source": [
        "Find out the angle of dip () of the reflecting interface and determine the velocity of the\n",
        "medium above the interface (v0 ) (assumed to be constant) and the perpendicular\n",
        "distance (h) from the shot to the interface.\n",
        "\n",
        "From the velocity value found above, what rock type you would expect to encounter in\n",
        "a drill hole for the top layer?"
      ],
      "metadata": {
        "id": "hHlNxyDHfmsX"
      }
    },
    {
      "cell_type": "code",
      "source": [
        "#Data conversion\n",
        "# X meter to km scale\n",
        "# x to x^2 \n",
        "\n",
        "\n",
        "x_square_m = np.power(df[\"X_pos(meter)\"], 2)\n",
        "x_square_km = x_square_m * 10**(-6)\n",
        "x_square_km = x_square_km\n",
        "time_square = np.power(df[\"t_p(s)\"], 2) \n",
        "\n",
        "df_b = pd.DataFrame({\"x_square_m\" : x_square_m, \"x_square_km\" : x_square_km, \"time_square\" : time_square})\n",
        "df_b"
      ],
      "metadata": {
        "colab": {
          "base_uri": "https://localhost:8080/",
          "height": 237
        },
        "id": "N3J_YPMxftrX",
        "outputId": "4f5476d0-bc8f-4801-de2e-d5888df7b6e3"
      },
      "execution_count": null,
      "outputs": [
        {
          "output_type": "execute_result",
          "data": {
            "text/plain": [
              "   x_square_m  x_square_km  time_square\n",
              "0           0         0.00       0.2500\n",
              "1       40000         0.04       0.2809\n",
              "2      160000         0.16       0.3600\n",
              "3      360000         0.36       0.4900\n",
              "4      640000         0.64       0.6889\n",
              "5     1000000         1.00       0.9409"
            ],
            "text/html": [
              "\n",
              "  <div id=\"df-1e855b51-1627-4067-8157-41ce57916f13\">\n",
              "    <div class=\"colab-df-container\">\n",
              "      <div>\n",
              "<style scoped>\n",
              "    .dataframe tbody tr th:only-of-type {\n",
              "        vertical-align: middle;\n",
              "    }\n",
              "\n",
              "    .dataframe tbody tr th {\n",
              "        vertical-align: top;\n",
              "    }\n",
              "\n",
              "    .dataframe thead th {\n",
              "        text-align: right;\n",
              "    }\n",
              "</style>\n",
              "<table border=\"1\" class=\"dataframe\">\n",
              "  <thead>\n",
              "    <tr style=\"text-align: right;\">\n",
              "      <th></th>\n",
              "      <th>x_square_m</th>\n",
              "      <th>x_square_km</th>\n",
              "      <th>time_square</th>\n",
              "    </tr>\n",
              "  </thead>\n",
              "  <tbody>\n",
              "    <tr>\n",
              "      <th>0</th>\n",
              "      <td>0</td>\n",
              "      <td>0.00</td>\n",
              "      <td>0.2500</td>\n",
              "    </tr>\n",
              "    <tr>\n",
              "      <th>1</th>\n",
              "      <td>40000</td>\n",
              "      <td>0.04</td>\n",
              "      <td>0.2809</td>\n",
              "    </tr>\n",
              "    <tr>\n",
              "      <th>2</th>\n",
              "      <td>160000</td>\n",
              "      <td>0.16</td>\n",
              "      <td>0.3600</td>\n",
              "    </tr>\n",
              "    <tr>\n",
              "      <th>3</th>\n",
              "      <td>360000</td>\n",
              "      <td>0.36</td>\n",
              "      <td>0.4900</td>\n",
              "    </tr>\n",
              "    <tr>\n",
              "      <th>4</th>\n",
              "      <td>640000</td>\n",
              "      <td>0.64</td>\n",
              "      <td>0.6889</td>\n",
              "    </tr>\n",
              "    <tr>\n",
              "      <th>5</th>\n",
              "      <td>1000000</td>\n",
              "      <td>1.00</td>\n",
              "      <td>0.9409</td>\n",
              "    </tr>\n",
              "  </tbody>\n",
              "</table>\n",
              "</div>\n",
              "      <button class=\"colab-df-convert\" onclick=\"convertToInteractive('df-1e855b51-1627-4067-8157-41ce57916f13')\"\n",
              "              title=\"Convert this dataframe to an interactive table.\"\n",
              "              style=\"display:none;\">\n",
              "        \n",
              "  <svg xmlns=\"http://www.w3.org/2000/svg\" height=\"24px\"viewBox=\"0 0 24 24\"\n",
              "       width=\"24px\">\n",
              "    <path d=\"M0 0h24v24H0V0z\" fill=\"none\"/>\n",
              "    <path d=\"M18.56 5.44l.94 2.06.94-2.06 2.06-.94-2.06-.94-.94-2.06-.94 2.06-2.06.94zm-11 1L8.5 8.5l.94-2.06 2.06-.94-2.06-.94L8.5 2.5l-.94 2.06-2.06.94zm10 10l.94 2.06.94-2.06 2.06-.94-2.06-.94-.94-2.06-.94 2.06-2.06.94z\"/><path d=\"M17.41 7.96l-1.37-1.37c-.4-.4-.92-.59-1.43-.59-.52 0-1.04.2-1.43.59L10.3 9.45l-7.72 7.72c-.78.78-.78 2.05 0 2.83L4 21.41c.39.39.9.59 1.41.59.51 0 1.02-.2 1.41-.59l7.78-7.78 2.81-2.81c.8-.78.8-2.07 0-2.86zM5.41 20L4 18.59l7.72-7.72 1.47 1.35L5.41 20z\"/>\n",
              "  </svg>\n",
              "      </button>\n",
              "      \n",
              "  <style>\n",
              "    .colab-df-container {\n",
              "      display:flex;\n",
              "      flex-wrap:wrap;\n",
              "      gap: 12px;\n",
              "    }\n",
              "\n",
              "    .colab-df-convert {\n",
              "      background-color: #E8F0FE;\n",
              "      border: none;\n",
              "      border-radius: 50%;\n",
              "      cursor: pointer;\n",
              "      display: none;\n",
              "      fill: #1967D2;\n",
              "      height: 32px;\n",
              "      padding: 0 0 0 0;\n",
              "      width: 32px;\n",
              "    }\n",
              "\n",
              "    .colab-df-convert:hover {\n",
              "      background-color: #E2EBFA;\n",
              "      box-shadow: 0px 1px 2px rgba(60, 64, 67, 0.3), 0px 1px 3px 1px rgba(60, 64, 67, 0.15);\n",
              "      fill: #174EA6;\n",
              "    }\n",
              "\n",
              "    [theme=dark] .colab-df-convert {\n",
              "      background-color: #3B4455;\n",
              "      fill: #D2E3FC;\n",
              "    }\n",
              "\n",
              "    [theme=dark] .colab-df-convert:hover {\n",
              "      background-color: #434B5C;\n",
              "      box-shadow: 0px 1px 3px 1px rgba(0, 0, 0, 0.15);\n",
              "      filter: drop-shadow(0px 1px 2px rgba(0, 0, 0, 0.3));\n",
              "      fill: #FFFFFF;\n",
              "    }\n",
              "  </style>\n",
              "\n",
              "      <script>\n",
              "        const buttonEl =\n",
              "          document.querySelector('#df-1e855b51-1627-4067-8157-41ce57916f13 button.colab-df-convert');\n",
              "        buttonEl.style.display =\n",
              "          google.colab.kernel.accessAllowed ? 'block' : 'none';\n",
              "\n",
              "        async function convertToInteractive(key) {\n",
              "          const element = document.querySelector('#df-1e855b51-1627-4067-8157-41ce57916f13');\n",
              "          const dataTable =\n",
              "            await google.colab.kernel.invokeFunction('convertToInteractive',\n",
              "                                                     [key], {});\n",
              "          if (!dataTable) return;\n",
              "\n",
              "          const docLinkHtml = 'Like what you see? Visit the ' +\n",
              "            '<a target=\"_blank\" href=https://colab.research.google.com/notebooks/data_table.ipynb>data table notebook</a>'\n",
              "            + ' to learn more about interactive tables.';\n",
              "          element.innerHTML = '';\n",
              "          dataTable['output_type'] = 'display_data';\n",
              "          await google.colab.output.renderOutput(dataTable, element);\n",
              "          const docLink = document.createElement('div');\n",
              "          docLink.innerHTML = docLinkHtml;\n",
              "          element.appendChild(docLink);\n",
              "        }\n",
              "      </script>\n",
              "    </div>\n",
              "  </div>\n",
              "  "
            ]
          },
          "metadata": {},
          "execution_count": 30
        }
      ]
    },
    {
      "cell_type": "code",
      "source": [
        "def get_slope(y2, y1, x2, x1):\n",
        "  m = (y2 - y1) / (x2 - x1)\n",
        "  return m\n",
        "\n",
        "y1 = df_b.iloc[2][\"time_square\"]\n",
        "y2 = df_b.iloc[3][\"time_square\"]\n",
        "\n",
        "x1 = df_b.iloc[2][\"x_square_km\"]\n",
        "x2 = df_b.iloc[3][\"x_square_km\"]\n",
        "\n",
        "slope = get_slope(y2, y1, x2, x1)\n",
        "\n",
        "# As we know, slope = 1 / v^2\n",
        "\n",
        "v = np.sqrt(1 / slope)\n",
        "\n",
        "print(\"Velocity : {:.2f} km/s\".format(v))\n"
      ],
      "metadata": {
        "colab": {
          "base_uri": "https://localhost:8080/"
        },
        "id": "WP2gvZpenhLu",
        "outputId": "588557c2-0d19-4c66-b55a-1ffe7bfc2f52"
      },
      "execution_count": null,
      "outputs": [
        {
          "output_type": "stream",
          "name": "stdout",
          "text": [
            "Velocity : 1.24 km/s\n"
          ]
        }
      ]
    },
    {
      "cell_type": "code",
      "source": [
        "# Depth,  h = v * t_0 / 2\n",
        "\n",
        "t_0 = df.iloc[0, 1]\n",
        "h = v * t_0 / 2\n",
        "\n",
        "print(\"Depth = {:.2f} km\".format(h))"
      ],
      "metadata": {
        "colab": {
          "base_uri": "https://localhost:8080/"
        },
        "id": "aPMteF-ls3Uj",
        "outputId": "e001affb-9f4e-4a91-b7b2-b3a5066b5aaf"
      },
      "execution_count": null,
      "outputs": [
        {
          "output_type": "stream",
          "name": "stdout",
          "text": [
            "Depth = 0.31 km\n"
          ]
        }
      ]
    },
    {
      "cell_type": "code",
      "source": [
        "#Plotting hyperbolic curve\n",
        "xs = []\n",
        "for i in np.arange(-1000, 1200, 200):\n",
        "  xs.append(i)\n",
        " "
      ],
      "metadata": {
        "colab": {
          "base_uri": "https://localhost:8080/"
        },
        "id": "REhEZ2a_tyxt",
        "outputId": "33358dd7-a81f-47eb-fdec-2e9fffdf1566"
      },
      "execution_count": null,
      "outputs": [
        {
          "output_type": "execute_result",
          "data": {
            "text/plain": [
              "[-1000, -800, -600, -400, -200, 0, 200, 400, 600, 800, 1000]"
            ]
          },
          "metadata": {},
          "execution_count": 85
        }
      ]
    },
    {
      "cell_type": "code",
      "source": [
        "t1 = df[\"t_n(s)\"].to_numpy()\n",
        "t2 = df[\"t_p(s)\"].to_numpy()[::-1]\n",
        "t1 = t1[np.logical_not(np.isnan(t1))]\n",
        "t1"
      ],
      "metadata": {
        "colab": {
          "base_uri": "https://localhost:8080/"
        },
        "id": "gkOf5qZPwub8",
        "outputId": "b8ceebc7-4f3f-4e51-e0db-a6bb53fc9a55"
      },
      "execution_count": null,
      "outputs": [
        {
          "output_type": "execute_result",
          "data": {
            "text/plain": [
              "array([0.53, 0.6 , 0.7 , 0.83, 0.97])"
            ]
          },
          "metadata": {},
          "execution_count": 123
        }
      ]
    },
    {
      "cell_type": "code",
      "source": [
        "t2"
      ],
      "metadata": {
        "colab": {
          "base_uri": "https://localhost:8080/"
        },
        "id": "nryjtn4rz7CO",
        "outputId": "fb7301f0-05cb-4d1b-f88f-e5f493f09ff5"
      },
      "execution_count": null,
      "outputs": [
        {
          "output_type": "execute_result",
          "data": {
            "text/plain": [
              "array([0.97, 0.83, 0.7 , 0.6 , 0.53, 0.5 ])"
            ]
          },
          "metadata": {},
          "execution_count": 124
        }
      ]
    },
    {
      "cell_type": "code",
      "source": [
        "t3 = np.concatenate((t2, t1), axis = 0)\n",
        "t3"
      ],
      "metadata": {
        "colab": {
          "base_uri": "https://localhost:8080/"
        },
        "id": "UyPyzJMr1CW_",
        "outputId": "975a5f71-1383-42ed-dc63-0c7e7c2af03c"
      },
      "execution_count": null,
      "outputs": [
        {
          "output_type": "execute_result",
          "data": {
            "text/plain": [
              "array([0.97, 0.83, 0.7 , 0.6 , 0.53, 0.5 , 0.53, 0.6 , 0.7 , 0.83, 0.97])"
            ]
          },
          "metadata": {},
          "execution_count": 126
        }
      ]
    },
    {
      "cell_type": "code",
      "source": [
        "xt = [-1000, -500, 0, 0, 500, 1000]\n",
        "yt = [0, -0.2, 0, 0, -0.2, 0]"
      ],
      "metadata": {
        "id": "qqtEPlGM3Bwm"
      },
      "execution_count": null,
      "outputs": []
    },
    {
      "cell_type": "code",
      "source": [
        "plt.figure(figsize = (12, 12))\n",
        "plt.plot(xs, t3)\n",
        "plt.plot(xt, yt, color = \"red\")\n",
        "plt.plot()\n",
        "plt.vlines(0, -0.2, 1.4, colors = \"k\")\n",
        "plt.vlines(0, -0.2, 0, colors = \"c\")\n",
        "plt.hlines(0, -1000, 1000, colors = \"k\")\n",
        "plt.xlim(-1000, 1000)\n",
        "plt.ylim(-0.2, 1.4)\n",
        "plt.grid(True)"
      ],
      "metadata": {
        "colab": {
          "base_uri": "https://localhost:8080/",
          "height": 704
        },
        "id": "JnT8PzbQxt3c",
        "outputId": "35009b77-c97e-4948-88da-152f26fa9964"
      },
      "execution_count": null,
      "outputs": [
        {
          "output_type": "display_data",
          "data": {
            "text/plain": [
              "<Figure size 864x864 with 1 Axes>"
            ],
            "image/png": "[encoded data removed]"
          },
          "metadata": {
            "needs_background": "light"
          }
        }
      ]
    },
    {
      "cell_type": "code",
      "source": [],
      "metadata": {
        "id": "-XpWbQaNW_8X"
      },
      "execution_count": null,
      "outputs": []
    }
  ]
}
